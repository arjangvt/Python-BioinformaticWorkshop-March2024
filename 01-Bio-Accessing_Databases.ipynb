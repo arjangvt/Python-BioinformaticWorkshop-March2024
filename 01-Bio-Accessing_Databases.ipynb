{
 "cells": [
  {
   "cell_type": "markdown",
   "id": "729544e8",
   "metadata": {},
   "source": [
    "# Introduction to Python and Bioinformatics\n",
    "\n",
    "# - The Python Fundamentals\n",
    "\n",
    "#### Developed by:  A. Fahim, California State Univeristy Long Beach\n",
    "\n",
    "This notebook is a supplement to the workshop \"Introduction to Python and Bioinformatics\"\n",
    "\n",
    "\n",
    "### Next-Gen Sequencing"
   ]
  },
  {
   "cell_type": "markdown",
   "id": "c9ba397d",
   "metadata": {},
   "source": [
    "We will also import the module to process sequences. Do not forget to put\n",
    "the correct e-mail address."
   ]
  },
  {
   "cell_type": "code",
   "execution_count": null,
   "id": "d8cfedc9",
   "metadata": {},
   "outputs": [],
   "source": [
    "from Bio import Entrez, Medline, SeqIO"
   ]
  },
  {
   "cell_type": "code",
   "execution_count": null,
   "id": "c6194046",
   "metadata": {},
   "outputs": [],
   "source": [
    "Entrez.email = \"arjangvt@gmail.com\""
   ]
  },
  {
   "cell_type": "code",
   "execution_count": null,
   "id": "6a5e8722",
   "metadata": {},
   "outputs": [],
   "source": [
    "#This gives you the list of available databases\n",
    "handle = Entrez.einfo()\n",
    "rec = Entrez.read(handle)\n",
    "print(rec)"
   ]
  },
  {
   "cell_type": "markdown",
   "id": "3ad2f3ca",
   "metadata": {},
   "source": [
    "We will now try to find the Cholroquine Resistance Transporter (CRT) gene in\n",
    "Plasmodium falciparum (the parasite that causes the deadliest form of malaria)\n",
    "on the nucleotide database:"
   ]
  },
  {
   "cell_type": "code",
   "execution_count": null,
   "id": "48bc0e1f",
   "metadata": {},
   "outputs": [],
   "source": [
    "handle = Entrez.esearch(db=\"nucleotide\", term='CRT[Gene Name] AND \"Plasmodium falciparum\"[Organism]')\n",
    "rec_list = Entrez.read(handle)\n",
    "\n",
    "if rec_list['RetMax'] < rec_list['Count']:\n",
    "    handle = Entrez.esearch(db=\"nucleotide\", term='CRT[Gene Name] AND \"Plasmodium falciparum\"[Organism]',\n",
    "                            retmax=rec_list['Count'])\n",
    "    rec_list = Entrez.read(handle)"
   ]
  },
  {
   "cell_type": "code",
   "execution_count": null,
   "id": "45ab0d26",
   "metadata": {},
   "outputs": [],
   "source": [
    "id_list = rec_list['IdList']\n",
    "hdl = Entrez.efetch(db='nucleotide', id=id_list, rettype='gb', retmax=rec_list['Count'])"
   ]
  },
  {
   "cell_type": "code",
   "execution_count": null,
   "id": "bedf0052",
   "metadata": {},
   "outputs": [],
   "source": [
    "print(id_list)"
   ]
  },
  {
   "cell_type": "markdown",
   "id": "bda76fdd",
   "metadata": {},
   "source": [
    "Let's now try to retrieve all these records. The following query will download all matching nucleotide sequences from GenBank, which are 281 at the time of\n",
    "writing this book. You probably do not want to do this all the time"
   ]
  },
  {
   "cell_type": "code",
   "execution_count": null,
   "id": "8ff526b7",
   "metadata": {},
   "outputs": [],
   "source": [
    "recs = list(SeqIO.parse(hdl, 'gb'))"
   ]
  },
  {
   "cell_type": "markdown",
   "id": "5e9bd081",
   "metadata": {},
   "source": [
    "We will now just concentrate on a single record. This will only work if you used the exact same preceding query:"
   ]
  },
  {
   "cell_type": "code",
   "execution_count": null,
   "id": "f36bd775",
   "metadata": {},
   "outputs": [],
   "source": [
    "for rec in recs:\n",
    "    if rec.name == 'KM288867':\n",
    "        break\n",
    "print(rec.name)\n",
    "print(rec.description)"
   ]
  },
  {
   "cell_type": "markdown",
   "id": "522f9b44",
   "metadata": {},
   "source": [
    "Let's now extract some sequence features, which contain information such as gene products and exon positions on the sequence:"
   ]
  },
  {
   "cell_type": "code",
   "execution_count": null,
   "id": "3f15cc92",
   "metadata": {},
   "outputs": [],
   "source": [
    "for feature in rec.features:\n",
    "    if feature.type == 'gene':\n",
    "        print(feature.qualifiers['gene'])\n",
    "    elif feature.type == 'exon':\n",
    "        loc = feature.location\n",
    "        print('Exon', loc.start, loc.end, loc.strand)\n",
    "    else:\n",
    "        print('not processed:\\n%s' % feature)"
   ]
  },
  {
   "cell_type": "markdown",
   "id": "d985a6c4",
   "metadata": {},
   "source": [
    "We will now look at the annotations on the record, which is mostly metadata that is not related to the sequence position:"
   ]
  },
  {
   "cell_type": "code",
   "execution_count": null,
   "id": "cccd3f5a",
   "metadata": {
    "scrolled": true
   },
   "outputs": [],
   "source": [
    "for name, value in rec.annotations.items():\n",
    "    print('%s=%s' % (name, value))"
   ]
  },
  {
   "cell_type": "code",
   "execution_count": null,
   "id": "48632352",
   "metadata": {},
   "outputs": [],
   "source": [
    "print(len(rec.seq))"
   ]
  },
  {
   "cell_type": "code",
   "execution_count": null,
   "id": "0a78b99a",
   "metadata": {},
   "outputs": [],
   "source": [
    "print(rec.seq)"
   ]
  },
  {
   "cell_type": "code",
   "execution_count": null,
   "id": "201efacc",
   "metadata": {},
   "outputs": [],
   "source": [
    "refs = rec.annotations['references']\n",
    "for ref in refs:\n",
    "    if ref.pubmed_id != '':\n",
    "        print(ref.pubmed_id)\n",
    "        handle = Entrez.efetch(db=\"pubmed\", id=[ref.pubmed_id],\n",
    "                                rettype=\"medline\", retmode=\"text\")\n",
    "        records = Medline.parse(handle)\n",
    "        for med_rec in records:\n",
    "            for k, v in med_rec.items():\n",
    "                print('%s: %s' % (k, v))"
   ]
  },
  {
   "cell_type": "code",
   "execution_count": null,
   "id": "c3ef682c",
   "metadata": {},
   "outputs": [],
   "source": []
  }
 ],
 "metadata": {
  "kernelspec": {
   "display_name": "Python 3 (ipykernel)",
   "language": "python",
   "name": "python3"
  },
  "language_info": {
   "codemirror_mode": {
    "name": "ipython",
    "version": 3
   },
   "file_extension": ".py",
   "mimetype": "text/x-python",
   "name": "python",
   "nbconvert_exporter": "python",
   "pygments_lexer": "ipython3",
   "version": "3.11.5"
  }
 },
 "nbformat": 4,
 "nbformat_minor": 5
}
